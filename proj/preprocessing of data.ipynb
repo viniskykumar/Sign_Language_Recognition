{
 "cells": [
  {
   "cell_type": "markdown",
   "id": "27ca8227",
   "metadata": {},
   "source": [
    "## Image processing"
   ]
  },
  {
   "cell_type": "code",
   "execution_count": 4,
   "id": "ebf4a908",
   "metadata": {},
   "outputs": [],
   "source": [
    "import numpy as np\n",
    "import cv2\n",
    "minValue = 70\n",
    "\n",
    "\n",
    "def func(path):\n",
    "    frame = cv2.imread(path)\n",
    "\n",
    "    gray = cv2.cvtColor(frame, cv2.COLOR_BGR2GRAY)\n",
    "    blur = cv2.GaussianBlur(gray, (7, 7), 2)\n",
    "\n",
    "    th3 = cv2.adaptiveThreshold(\n",
    "        blur, 255, cv2.ADAPTIVE_THRESH_GAUSSIAN_C, cv2.THRESH_BINARY_INV, 11, 2)\n",
    "    ret, res = cv2.threshold(\n",
    "        th3, minValue, 255, cv2.THRESH_BINARY_INV+cv2.THRESH_OTSU)\n",
    "    return res"
   ]
  },
  {
   "cell_type": "markdown",
   "id": "1d246d02",
   "metadata": {},
   "source": [
    "## preprocessing of collected data"
   ]
  },
  {
   "cell_type": "code",
   "execution_count": 5,
   "id": "0dad4424",
   "metadata": {},
   "outputs": [
    {
     "name": "stdout",
     "output_type": "stream",
     "text": [
      "0\n",
      "0\n",
      "0\n"
     ]
    }
   ],
   "source": [
    "import os\n",
    "import csv\n",
    "\n",
    "if not os.path.exists(\"data\"):\n",
    "    os.makedirs(\"data\")\n",
    "if not os.path.exists(\"data/train\"):\n",
    "    os.makedirs(\"data/train\")\n",
    "if not os.path.exists(\"data/test\"):\n",
    "    os.makedirs(\"data/test\")\n",
    "\n",
    "path = \"data\\\\train\"\n",
    "path1 = \"data2\"\n",
    "a = ['label']\n",
    "\n",
    "for i in range(64*64):\n",
    "    a.append(\"pixel\"+str(i))\n",
    "\n",
    "\n",
    "\n",
    "label = 0\n",
    "var = 0\n",
    "c1 = 0\n",
    "c2 = 0\n",
    "\n",
    "for (dirpath, dirnames, filenames) in os.walk('data2\\\\train'):\n",
    "    for dirname in dirnames:\n",
    "        print(dirname)\n",
    "        for(direcpath, direcnames, files) in os.walk(path+\"/\"+dirname):\n",
    "            if not os.path.exists(path1+\"/train/\"+dirname):\n",
    "                os.makedirs(path1+\"/train/\"+dirname)\n",
    "            if not os.path.exists(path1+\"/test/\"+dirname):\n",
    "                os.makedirs(path1+\"/test/\"+dirname)\n",
    "            # num=0.75*len(files)\n",
    "            num = 100000000000000000\n",
    "            i = 0\n",
    "            for file in files:\n",
    "                var += 1\n",
    "                actual_path = path+\"/\"+dirname+\"/\"+file\n",
    "                actual_path1 = path1+\"/\"+\"train/\"+dirname+\"/\"+file\n",
    "                actual_path2 = path1+\"/\"+\"test/\"+dirname+\"/\"+file\n",
    "                img = cv2.imread(actual_path, 0)\n",
    "                bw_image = func(actual_path)\n",
    "                if i < num:\n",
    "                    c1 += 1\n",
    "                    cv2.imwrite(actual_path1, bw_image)\n",
    "                else:\n",
    "                    c2 += 1\n",
    "                    cv2.imwrite(actual_path2, bw_image)\n",
    "\n",
    "                i = i+1\n",
    "\n",
    "        label = label+1\n",
    "print(var)\n",
    "print(c1)\n",
    "print(c2)"
   ]
  },
  {
   "cell_type": "code",
   "execution_count": null,
   "id": "4876737b",
   "metadata": {},
   "outputs": [],
   "source": []
  }
 ],
 "metadata": {
  "kernelspec": {
   "display_name": "Python 3 (ipykernel)",
   "language": "python",
   "name": "python3"
  },
  "language_info": {
   "codemirror_mode": {
    "name": "ipython",
    "version": 3
   },
   "file_extension": ".py",
   "mimetype": "text/x-python",
   "name": "python",
   "nbconvert_exporter": "python",
   "pygments_lexer": "ipython3",
   "version": "3.9.12"
  }
 },
 "nbformat": 4,
 "nbformat_minor": 5
}
